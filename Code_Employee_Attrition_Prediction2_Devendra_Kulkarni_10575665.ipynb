{
  "nbformat": 4,
  "nbformat_minor": 0,
  "metadata": {
    "colab": {
      "name": "Employee_Attrition_Prediction2_Devendra_Kulkarni_10575665.ipynb",
      "provenance": [],
      "collapsed_sections": []
    },
    "kernelspec": {
      "name": "python3",
      "display_name": "Python 3"
    },
    "language_info": {
      "name": "python"
    }
  },
  "cells": [
    {
      "cell_type": "markdown",
      "source": [
        "**MODEL DEVELOPMENT AND EVALUATION**"
      ],
      "metadata": {
        "id": "T0iNA6jvUJ-2"
      }
    },
    {
      "cell_type": "code",
      "execution_count": 51,
      "metadata": {
        "id": "sq4UAPZZJ0sb"
      },
      "outputs": [],
      "source": [
        "import pandas as pd\n",
        "import numpy as np\n",
        "from pandas import DataFrame\n",
        "%matplotlib inline\n",
        "import matplotlib.pyplot as plt\n",
        "import seaborn as sns\n",
        "from sklearn import preprocessing\n",
        "import math\n",
        "from sklearn.model_selection import train_test_split\n",
        "from sklearn import metrics \n",
        "\n",
        "from sklearn.model_selection import cross_val_score\n",
        "from sklearn.pipeline import make_pipeline\n",
        "from sklearn.preprocessing import StandardScaler\n",
        "from sklearn.svm import SVC\n",
        "from sklearn.ensemble import RandomForestClassifier"
      ]
    },
    {
      "cell_type": "code",
      "source": [
        "data = pd.read_csv('WA_Fn-UseC_-HR-Employee-Attrition.csv')\n",
        "data = data.drop(columns=['StandardHours','EmployeeCount','Over18','EmployeeNumber','StockOptionLevel'])\n",
        "\n",
        "le = preprocessing.LabelEncoder()\n",
        "categorial_variables = ['Attrition','BusinessTravel','Department','EducationField',\n",
        "                        'Gender','JobRole','MaritalStatus','OverTime']\n",
        "for i in categorial_variables:\n",
        "    data[i] = le.fit_transform(data[i])\n",
        "data.head(5)\n",
        "data.to_csv('LabelEncoded_CleanData.csv')"
      ],
      "metadata": {
        "id": "mWT8V5RxJ8_W"
      },
      "execution_count": 52,
      "outputs": []
    },
    {
      "cell_type": "code",
      "source": [
        "target = data['Attrition']\n",
        "train = data.drop('Attrition',axis = 1)\n",
        "train.shape"
      ],
      "metadata": {
        "colab": {
          "base_uri": "https://localhost:8080/"
        },
        "id": "fVY-8GYCJ-c2",
        "outputId": "83068368-ad2d-4413-82dd-84d22074d9ba"
      },
      "execution_count": 53,
      "outputs": [
        {
          "output_type": "execute_result",
          "data": {
            "text/plain": [
              "(1470, 29)"
            ]
          },
          "metadata": {},
          "execution_count": 53
        }
      ]
    },
    {
      "cell_type": "markdown",
      "source": [
        "Implementation of all the popular classifiers in scikit-learn\n",
        "\n",
        "Logistic Regression\n",
        "\n",
        "SVM\n",
        "\n",
        "KNN\n",
        "\n",
        "Decision Tree\n",
        "\n"
      ],
      "metadata": {
        "id": "wKGBT-4aNtFw"
      }
    },
    {
      "cell_type": "code",
      "source": [
        "train_accuracy = []\n",
        "test_accuracy = []\n",
        "models = ['Logistic Regression','SVM','KNN','Decision Tree']"
      ],
      "metadata": {
        "id": "c6gp6LzPN3w4"
      },
      "execution_count": 54,
      "outputs": []
    },
    {
      "cell_type": "code",
      "source": [
        "#Defining a function which will give us train and test accuracy for each classifier.\n",
        "def train_test_error(y_train,y_test):\n",
        "    train_error = ((y_train==Y_train).sum())/len(y_train)*100\n",
        "    test_error = ((y_test==Y_test).sum())/len(Y_test)*100\n",
        "    train_accuracy.append(train_error)\n",
        "    test_accuracy.append(test_error)\n",
        "    print('{}'.format(train_error) + \" is the train accuracy\")\n",
        "    print('{}'.format(test_error) + \" is the test accuracy\")"
      ],
      "metadata": {
        "id": "l1SBuqntN-RF"
      },
      "execution_count": 55,
      "outputs": []
    },
    {
      "cell_type": "code",
      "source": [
        "X_train, X_test, Y_train, Y_test = train_test_split(train, target, test_size=0.33, random_state=42)"
      ],
      "metadata": {
        "id": "2py5j3QEOBad"
      },
      "execution_count": 56,
      "outputs": []
    },
    {
      "cell_type": "markdown",
      "source": [
        "LOGISTIC REGRESSION"
      ],
      "metadata": {
        "id": "MtuH1IlXYNwj"
      }
    },
    {
      "cell_type": "code",
      "source": [
        "from sklearn.linear_model import LogisticRegression\n",
        "log_reg = LogisticRegression()\n",
        "log_reg.fit(X_train,Y_train)\n",
        "train_predict = log_reg.predict(X_train)\n",
        "test_predict = log_reg.predict(X_test)\n",
        "y_prob = log_reg.predict(train)\n",
        "y_pred = np.where(y_prob > 0.5, 1, 0)\n",
        "train_test_error(train_predict , test_predict)"
      ],
      "metadata": {
        "colab": {
          "base_uri": "https://localhost:8080/"
        },
        "id": "Yaw3xP3ZODYF",
        "outputId": "a97f2cf3-bc37-47d8-b7aa-34c0883c695d"
      },
      "execution_count": 57,
      "outputs": [
        {
          "output_type": "stream",
          "name": "stdout",
          "text": [
            "83.63821138211382 is the train accuracy\n",
            "85.59670781893004 is the test accuracy\n"
          ]
        },
        {
          "output_type": "stream",
          "name": "stderr",
          "text": [
            "/usr/local/lib/python3.7/dist-packages/sklearn/linear_model/_logistic.py:818: ConvergenceWarning: lbfgs failed to converge (status=1):\n",
            "STOP: TOTAL NO. of ITERATIONS REACHED LIMIT.\n",
            "\n",
            "Increase the number of iterations (max_iter) or scale the data as shown in:\n",
            "    https://scikit-learn.org/stable/modules/preprocessing.html\n",
            "Please also refer to the documentation for alternative solver options:\n",
            "    https://scikit-learn.org/stable/modules/linear_model.html#logistic-regression\n",
            "  extra_warning_msg=_LOGISTIC_SOLVER_CONVERGENCE_MSG,\n"
          ]
        }
      ]
    },
    {
      "cell_type": "markdown",
      "source": [
        "SVM"
      ],
      "metadata": {
        "id": "iWfYj-OSYRJ8"
      }
    },
    {
      "cell_type": "code",
      "source": [
        "from sklearn import svm\n",
        "SVM = svm.SVC(probability=True)\n",
        "SVM.fit(X_train,Y_train)\n",
        "train_predict = SVM.predict(X_train)\n",
        "test_predict = SVM.predict(X_test)\n",
        "train_test_error(train_predict , test_predict)"
      ],
      "metadata": {
        "colab": {
          "base_uri": "https://localhost:8080/"
        },
        "id": "bL9xjmttOFeF",
        "outputId": "b7a13771-19a5-47ee-87b9-486270077b1e"
      },
      "execution_count": 58,
      "outputs": [
        {
          "output_type": "stream",
          "name": "stdout",
          "text": [
            "83.02845528455285 is the train accuracy\n",
            "85.59670781893004 is the test accuracy\n"
          ]
        }
      ]
    },
    {
      "cell_type": "markdown",
      "source": [
        "KNN"
      ],
      "metadata": {
        "id": "rq6eMX_kYSsW"
      }
    },
    {
      "cell_type": "code",
      "source": [
        "from sklearn import neighbors\n",
        "n_neighbors = 15\n",
        "knn = neighbors.KNeighborsClassifier(n_neighbors, weights='distance')\n",
        "knn.fit(X_train,Y_train)\n",
        "train_predict = knn.predict(X_train)\n",
        "test_predict = knn.predict(X_test)\n",
        "train_test_error(train_predict , test_predict)"
      ],
      "metadata": {
        "colab": {
          "base_uri": "https://localhost:8080/"
        },
        "id": "UmX6iD5UOHtf",
        "outputId": "78c58fdc-1bda-4d59-e5a7-d697e1f17fcf"
      },
      "execution_count": 59,
      "outputs": [
        {
          "output_type": "stream",
          "name": "stdout",
          "text": [
            "100.0 is the train accuracy\n",
            "84.5679012345679 is the test accuracy\n"
          ]
        }
      ]
    },
    {
      "cell_type": "markdown",
      "source": [
        "DECISION TREE"
      ],
      "metadata": {
        "id": "DYPyfVQ-YZYV"
      }
    },
    {
      "cell_type": "code",
      "source": [
        "from sklearn import tree\n",
        "dec = tree.DecisionTreeClassifier()\n",
        "dec.fit(X_train,Y_train)\n",
        "train_predict = dec.predict(X_train)\n",
        "test_predict = dec.predict(X_test)\n",
        "train_test_error(train_predict , test_predict)"
      ],
      "metadata": {
        "colab": {
          "base_uri": "https://localhost:8080/"
        },
        "id": "8Hk9-FTlOJiP",
        "outputId": "076da19c-30b3-45f6-fcb9-c60280c02b04"
      },
      "execution_count": 60,
      "outputs": [
        {
          "output_type": "stream",
          "name": "stdout",
          "text": [
            "100.0 is the train accuracy\n",
            "78.80658436213992 is the test accuracy\n"
          ]
        }
      ]
    },
    {
      "cell_type": "code",
      "source": [
        "results = DataFrame({\"Test Accuracy\" : test_accuracy , \"Train Accuracy\" : train_accuracy} , index = models)"
      ],
      "metadata": {
        "id": "y8aD-T1LP0qG"
      },
      "execution_count": 61,
      "outputs": []
    },
    {
      "cell_type": "markdown",
      "source": [
        "RESULT"
      ],
      "metadata": {
        "id": "bzM_p665YsvV"
      }
    },
    {
      "cell_type": "code",
      "source": [
        "results"
      ],
      "metadata": {
        "colab": {
          "base_uri": "https://localhost:8080/",
          "height": 175
        },
        "id": "SdhBQYVBQH0f",
        "outputId": "d22d4a71-96b1-4c2e-a84b-d166dc162265"
      },
      "execution_count": 40,
      "outputs": [
        {
          "output_type": "execute_result",
          "data": {
            "text/plain": [
              "                     Test Accuracy  Train Accuracy\n",
              "Logistic Regression      85.596708       83.638211\n",
              "SVM                      85.596708       83.028455\n",
              "KNN                      84.567901      100.000000\n",
              "Decision Tree            78.189300      100.000000"
            ],
            "text/html": [
              "\n",
              "  <div id=\"df-f439bc7f-5a1e-4c79-a415-aea7a10b2537\">\n",
              "    <div class=\"colab-df-container\">\n",
              "      <div>\n",
              "<style scoped>\n",
              "    .dataframe tbody tr th:only-of-type {\n",
              "        vertical-align: middle;\n",
              "    }\n",
              "\n",
              "    .dataframe tbody tr th {\n",
              "        vertical-align: top;\n",
              "    }\n",
              "\n",
              "    .dataframe thead th {\n",
              "        text-align: right;\n",
              "    }\n",
              "</style>\n",
              "<table border=\"1\" class=\"dataframe\">\n",
              "  <thead>\n",
              "    <tr style=\"text-align: right;\">\n",
              "      <th></th>\n",
              "      <th>Test Accuracy</th>\n",
              "      <th>Train Accuracy</th>\n",
              "    </tr>\n",
              "  </thead>\n",
              "  <tbody>\n",
              "    <tr>\n",
              "      <th>Logistic Regression</th>\n",
              "      <td>85.596708</td>\n",
              "      <td>83.638211</td>\n",
              "    </tr>\n",
              "    <tr>\n",
              "      <th>SVM</th>\n",
              "      <td>85.596708</td>\n",
              "      <td>83.028455</td>\n",
              "    </tr>\n",
              "    <tr>\n",
              "      <th>KNN</th>\n",
              "      <td>84.567901</td>\n",
              "      <td>100.000000</td>\n",
              "    </tr>\n",
              "    <tr>\n",
              "      <th>Decision Tree</th>\n",
              "      <td>78.189300</td>\n",
              "      <td>100.000000</td>\n",
              "    </tr>\n",
              "  </tbody>\n",
              "</table>\n",
              "</div>\n",
              "      <button class=\"colab-df-convert\" onclick=\"convertToInteractive('df-f439bc7f-5a1e-4c79-a415-aea7a10b2537')\"\n",
              "              title=\"Convert this dataframe to an interactive table.\"\n",
              "              style=\"display:none;\">\n",
              "        \n",
              "  <svg xmlns=\"http://www.w3.org/2000/svg\" height=\"24px\"viewBox=\"0 0 24 24\"\n",
              "       width=\"24px\">\n",
              "    <path d=\"M0 0h24v24H0V0z\" fill=\"none\"/>\n",
              "    <path d=\"M18.56 5.44l.94 2.06.94-2.06 2.06-.94-2.06-.94-.94-2.06-.94 2.06-2.06.94zm-11 1L8.5 8.5l.94-2.06 2.06-.94-2.06-.94L8.5 2.5l-.94 2.06-2.06.94zm10 10l.94 2.06.94-2.06 2.06-.94-2.06-.94-.94-2.06-.94 2.06-2.06.94z\"/><path d=\"M17.41 7.96l-1.37-1.37c-.4-.4-.92-.59-1.43-.59-.52 0-1.04.2-1.43.59L10.3 9.45l-7.72 7.72c-.78.78-.78 2.05 0 2.83L4 21.41c.39.39.9.59 1.41.59.51 0 1.02-.2 1.41-.59l7.78-7.78 2.81-2.81c.8-.78.8-2.07 0-2.86zM5.41 20L4 18.59l7.72-7.72 1.47 1.35L5.41 20z\"/>\n",
              "  </svg>\n",
              "      </button>\n",
              "      \n",
              "  <style>\n",
              "    .colab-df-container {\n",
              "      display:flex;\n",
              "      flex-wrap:wrap;\n",
              "      gap: 12px;\n",
              "    }\n",
              "\n",
              "    .colab-df-convert {\n",
              "      background-color: #E8F0FE;\n",
              "      border: none;\n",
              "      border-radius: 50%;\n",
              "      cursor: pointer;\n",
              "      display: none;\n",
              "      fill: #1967D2;\n",
              "      height: 32px;\n",
              "      padding: 0 0 0 0;\n",
              "      width: 32px;\n",
              "    }\n",
              "\n",
              "    .colab-df-convert:hover {\n",
              "      background-color: #E2EBFA;\n",
              "      box-shadow: 0px 1px 2px rgba(60, 64, 67, 0.3), 0px 1px 3px 1px rgba(60, 64, 67, 0.15);\n",
              "      fill: #174EA6;\n",
              "    }\n",
              "\n",
              "    [theme=dark] .colab-df-convert {\n",
              "      background-color: #3B4455;\n",
              "      fill: #D2E3FC;\n",
              "    }\n",
              "\n",
              "    [theme=dark] .colab-df-convert:hover {\n",
              "      background-color: #434B5C;\n",
              "      box-shadow: 0px 1px 3px 1px rgba(0, 0, 0, 0.15);\n",
              "      filter: drop-shadow(0px 1px 2px rgba(0, 0, 0, 0.3));\n",
              "      fill: #FFFFFF;\n",
              "    }\n",
              "  </style>\n",
              "\n",
              "      <script>\n",
              "        const buttonEl =\n",
              "          document.querySelector('#df-f439bc7f-5a1e-4c79-a415-aea7a10b2537 button.colab-df-convert');\n",
              "        buttonEl.style.display =\n",
              "          google.colab.kernel.accessAllowed ? 'block' : 'none';\n",
              "\n",
              "        async function convertToInteractive(key) {\n",
              "          const element = document.querySelector('#df-f439bc7f-5a1e-4c79-a415-aea7a10b2537');\n",
              "          const dataTable =\n",
              "            await google.colab.kernel.invokeFunction('convertToInteractive',\n",
              "                                                     [key], {});\n",
              "          if (!dataTable) return;\n",
              "\n",
              "          const docLinkHtml = 'Like what you see? Visit the ' +\n",
              "            '<a target=\"_blank\" href=https://colab.research.google.com/notebooks/data_table.ipynb>data table notebook</a>'\n",
              "            + ' to learn more about interactive tables.';\n",
              "          element.innerHTML = '';\n",
              "          dataTable['output_type'] = 'display_data';\n",
              "          await google.colab.output.renderOutput(dataTable, element);\n",
              "          const docLink = document.createElement('div');\n",
              "          docLink.innerHTML = docLinkHtml;\n",
              "          element.appendChild(docLink);\n",
              "        }\n",
              "      </script>\n",
              "    </div>\n",
              "  </div>\n",
              "  "
            ]
          },
          "metadata": {},
          "execution_count": 40
        }
      ]
    },
    {
      "cell_type": "markdown",
      "source": [
        "CROSS VALIDATION SCORE"
      ],
      "metadata": {
        "id": "TNtsyUaZYmft"
      }
    },
    {
      "cell_type": "code",
      "source": [
        "# Create an instance of Pipeline\n",
        "#\n",
        "pipeline = make_pipeline(StandardScaler(), RandomForestClassifier(n_estimators=100, max_depth=4))\n",
        "#\n",
        "# Pass instance of pipeline and training and test data set\n",
        "# cv=10 represents the StratifiedKFold with 10 folds\n",
        "#\n",
        "scores = cross_val_score(pipeline, X=X_train, y=Y_train, cv=10, n_jobs=1)\n",
        " \n",
        "print('Cross Validation accuracy scores: %s' % scores)\n",
        " \n",
        "print('Cross Validation accuracy: %.3f +/- %.3f' % (np.mean(scores),np.std(scores)))"
      ],
      "metadata": {
        "colab": {
          "base_uri": "https://localhost:8080/"
        },
        "id": "BBdvpRk7Qlzv",
        "outputId": "3d9c2ab7-516b-4c26-deec-361889a63b89"
      },
      "execution_count": 48,
      "outputs": [
        {
          "output_type": "stream",
          "name": "stdout",
          "text": [
            "Cross Validation accuracy scores: [0.83838384 0.83838384 0.84848485 0.82828283 0.82653061 0.85714286\n",
            " 0.80612245 0.86734694 0.83673469 0.84693878]\n",
            "Cross Validation accuracy: 0.839 +/- 0.016\n"
          ]
        }
      ]
    },
    {
      "cell_type": "markdown",
      "source": [
        "From the above results we can clearly see that Logistic Regression & SVM outperforms every other algorithms which I have tested for the given dataset. The train accuracy score of Logistic Regression and SVM is also pretty similar however KNN & Decision Tree has 84.56 & 78.18 test scores. But they have 100% train scores. I also found out that Logistic regression is easier to implement for predictive approach at least for the choosen dataset."
      ],
      "metadata": {
        "id": "Rm4MJm06UWft"
      }
    }
  ]
}